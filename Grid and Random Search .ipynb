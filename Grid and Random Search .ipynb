{
 "cells": [
  {
   "cell_type": "code",
   "execution_count": null,
   "metadata": {},
   "outputs": [],
   "source": [
    "# Import required libraries\n",
    "# for this practice I had to change the version of Skleran to 1.5.2\n",
    "from sklearn.datasets import make_classification\n",
    "from sklearn.model_selection import train_test_split, GridSearchCV\n",
    "from tensorflow import keras\n",
    "from scikeras.wrappers import KerasClassifier\n",
    "import tensorflow as tf"
   ]
  },
  {
   "cell_type": "code",
   "execution_count": 6,
   "metadata": {},
   "outputs": [],
   "source": [
    "# Generate synthetic classification data\n",
    "X, y = make_classification(\n",
    "    n_samples=1000,    # Number of samples\n",
    "    n_features=20,     # Number of features\n",
    "    n_informative=10,  # Informative features\n",
    "    n_redundant=5,     # Redundant features\n",
    "    n_classes=2,       # Binary classification\n",
    "    random_state=42    # For reproducibility\n",
    ")"
   ]
  },
  {
   "cell_type": "code",
   "execution_count": 7,
   "metadata": {},
   "outputs": [],
   "source": [
    "# Split data into training and testing sets\n",
    "X_train, X_test, y_train, y_test = train_test_split(\n",
    "    X, y, \n",
    "    test_size=0.2,     # 20% for testing\n",
    "    random_state=42\n",
    ")"
   ]
  },
  {
   "cell_type": "code",
   "execution_count": 21,
   "metadata": {},
   "outputs": [
    {
     "data": {
      "text/plain": [
       "(800, 20)"
      ]
     },
     "execution_count": 21,
     "metadata": {},
     "output_type": "execute_result"
    }
   ],
   "source": [
    "X_train.shape"
   ]
  },
  {
   "cell_type": "code",
   "execution_count": 23,
   "metadata": {},
   "outputs": [
    {
     "data": {
      "text/plain": [
       "(200, 20)"
      ]
     },
     "execution_count": 23,
     "metadata": {},
     "output_type": "execute_result"
    }
   ],
   "source": [
    "X_test.shape"
   ]
  },
  {
   "cell_type": "code",
   "execution_count": 9,
   "metadata": {},
   "outputs": [],
   "source": [
    "# Define the model-building function (without compiling)\n",
    "def build_model(neurons=32):\n",
    "    model = keras.Sequential([\n",
    "        keras.layers.Input(shape=(20,)),         # Input layer with 20 features\n",
    "        keras.layers.Dense(neurons, activation=\"relu\"),  # Hidden layer with ReLU activation\n",
    "        keras.layers.Dense(1, activation=\"sigmoid\")      # Output layer for binary classification\n",
    "    ])\n",
    "    return model"
   ]
  },
  {
   "cell_type": "code",
   "execution_count": 10,
   "metadata": {},
   "outputs": [],
   "source": [
    "# Create KerasClassifier and pass compile parameters explicitly\n",
    "model = KerasClassifier(\n",
    "    model=build_model,\n",
    "    loss=tf.keras.losses.BinaryCrossentropy(),  # Loss function\n",
    "    optimizer=\"adam\",                           # Initial optimizer (to be tuned)\n",
    "    metrics=[\"accuracy\"],                       # Metric for evaluation\n",
    "    epochs=10,\n",
    "    batch_size=32,\n",
    "    verbose=0\n",
    ")"
   ]
  },
  {
   "cell_type": "code",
   "execution_count": 11,
   "metadata": {},
   "outputs": [],
   "source": [
    "# Define parameter grid for grid search\n",
    "param_grid = {\n",
    "    'model__neurons': [16, 32, 64, 128],   # Tuning the number of neurons\n",
    "    'optimizer': ['adam', 'sgd', 'rmsprop']  # Tuning the optimizer\n",
    "}"
   ]
  },
  {
   "cell_type": "code",
   "execution_count": 12,
   "metadata": {},
   "outputs": [],
   "source": [
    "# Set up GridSearchCV\n",
    "grid = GridSearchCV(\n",
    "    estimator=model,\n",
    "    param_grid=param_grid,\n",
    "    cv=3,               # 3-fold cross-validation\n",
    "    error_score='raise'\n",
    ")"
   ]
  },
  {
   "cell_type": "code",
   "execution_count": 13,
   "metadata": {},
   "outputs": [],
   "source": [
    "# Fit the model and perform grid search\n",
    "grid_result = grid.fit(X_train, y_train)\n"
   ]
  },
  {
   "cell_type": "code",
   "execution_count": 14,
   "metadata": {},
   "outputs": [
    {
     "name": "stdout",
     "output_type": "stream",
     "text": [
      "Best Score: 0.9212215933091156\n",
      "Best Params: {'model__neurons': 128, 'optimizer': 'rmsprop'}\n"
     ]
    }
   ],
   "source": [
    "# Display the best results\n",
    "print(f\"Best Score: {grid_result.best_score_}\")\n",
    "print(f\"Best Params: {grid_result.best_params_}\")\n"
   ]
  },
  {
   "cell_type": "code",
   "execution_count": 15,
   "metadata": {},
   "outputs": [],
   "source": [
    "from sklearn.model_selection import RandomizedSearchCV\n"
   ]
  },
  {
   "cell_type": "code",
   "execution_count": 18,
   "metadata": {},
   "outputs": [],
   "source": [
    "# Set up Random search \n",
    "grid2 = RandomizedSearchCV(\n",
    "    estimator=model,\n",
    "    param_distributions =param_grid,\n",
    "    n_iter= 5\n",
    "    \n",
    ")"
   ]
  },
  {
   "cell_type": "code",
   "execution_count": 19,
   "metadata": {},
   "outputs": [],
   "source": [
    "grid_result2 = grid2.fit(X_train, y_train)\n"
   ]
  },
  {
   "cell_type": "code",
   "execution_count": 20,
   "metadata": {},
   "outputs": [
    {
     "name": "stdout",
     "output_type": "stream",
     "text": [
      "Best Score: 0.9212215933091156\n",
      "Best Params: {'model__neurons': 128, 'optimizer': 'rmsprop'}\n"
     ]
    }
   ],
   "source": [
    "# Display the best results\n",
    "print(f\"Best Score: {grid_result.best_score_}\")\n",
    "print(f\"Best Params: {grid_result.best_params_}\")"
   ]
  }
 ],
 "metadata": {
  "kernelspec": {
   "display_name": "Python 3",
   "language": "python",
   "name": "python3"
  },
  "language_info": {
   "codemirror_mode": {
    "name": "ipython",
    "version": 3
   },
   "file_extension": ".py",
   "mimetype": "text/x-python",
   "name": "python",
   "nbconvert_exporter": "python",
   "pygments_lexer": "ipython3",
   "version": "3.11.9"
  }
 },
 "nbformat": 4,
 "nbformat_minor": 2
}
